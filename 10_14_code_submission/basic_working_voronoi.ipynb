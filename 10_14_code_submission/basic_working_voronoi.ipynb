{
 "cells": [
  {
   "cell_type": "code",
   "execution_count": 22,
   "metadata": {},
   "outputs": [],
   "source": [
    "import numpy as np\n",
    "import matplotlib.pyplot as plt\n",
    "from scipy.spatial import Voronoi\n",
    "from shapely.geometry import Polygon\n",
    "from scipy.cluster.vq import vq, kmeans, whiten\n",
    "\n",
    "#to make my plotting style\n",
    "plt.rcParams[\"axes.facecolor\"] = (1,1,.99) \n",
    "plt.rcParams[\"font.size\"] = 15 \n",
    "plt.rcParams[\"figure.figsize\"] = (12,6) \n",
    "plt.rcParams[\"ytick.labelsize\"] = 13 \n",
    "plt.rcParams[\"xtick.labelsize\"] = 13 \n",
    "plt.rcParams[\"lines.linewidth\"] = 2 \n",
    "plt.rcParams[\"axes.titlesize\"] = 17 "
   ]
  },
  {
   "cell_type": "markdown",
   "metadata": {},
   "source": [
    "### Globals"
   ]
  },
  {
   "cell_type": "code",
   "execution_count": 23,
   "metadata": {},
   "outputs": [],
   "source": [
    "NUM_PARTY_REPS = 1"
   ]
  },
  {
   "cell_type": "markdown",
   "metadata": {},
   "source": [
    "### Geometry and function for generating random districts"
   ]
  },
  {
   "cell_type": "code",
   "execution_count": 24,
   "metadata": {},
   "outputs": [],
   "source": [
    "# functions to get points on sides given x\n",
    "def y_bottom(x):\n",
    "    return 0\n",
    "def y_left(x):\n",
    "    return x * np.sqrt(3)\n",
    "def y_right(x):\n",
    "    return np.sqrt(3) * (1000 - x)\n",
    "\n",
    "# check bounds\n",
    "def in_bounds(point):\n",
    "    x, y = point[0], point[1]\n",
    "    condition1 = y >= y_bottom(x)\n",
    "    condition2 = y <= y_left(x)\n",
    "    condition3 = y <= y_right(x)\n",
    "    return condition1 and condition2 and condition3\n",
    "\n",
    "def generate_random_centroids(num_districts):\n",
    "    centroids = np.zeros((num_districts,2))\n",
    "    for i in range(num_districts):\n",
    "        while True:\n",
    "            x = np.random.random() * 1000\n",
    "            y = np.random.random() * 1000\n",
    "            proposal = np.array([x,y])\n",
    "            if in_bounds(proposal):\n",
    "                centroids[i] = proposal\n",
    "                break\n",
    "                \n",
    "    return centroids"
   ]
  },
  {
   "cell_type": "markdown",
   "metadata": {},
   "source": [
    "### Map information extraction functions"
   ]
  },
  {
   "cell_type": "code",
   "execution_count": 25,
   "metadata": {},
   "outputs": [],
   "source": [
    "num_population = 333333\n",
    "num_parties = 2 # default\n",
    "Population_coords = []\n",
    "Preferences = []\n",
    "num_population_test = 333\n",
    "\n",
    "def extractMapInfo(textfile, test=False):\n",
    "    with open(textfile) as f:\n",
    "        first_line = f.readline().split(\" \")\n",
    "        # get num_population\n",
    "        file_num_population = int(first_line[0])\n",
    "        if test:\n",
    "            file_num_population = num_population_test\n",
    "        # get num_parties\n",
    "        num_parties = int(first_line[1])\n",
    "        \n",
    "        for i in range(file_num_population):\n",
    "            person = f.readline().split(\" \")\n",
    "            Population_coords.append([float(x)  for x in person[:2]])\n",
    "            Preferences.append(person[2:(2 + num_parties)])\n",
    "    \n",
    "path = \"/Users/johndaciuk/Desktop/pps-election-master/10_9_results_submission/utah_2_better_map\"\n",
    "extractMapInfo(path)"
   ]
  },
  {
   "cell_type": "markdown",
   "metadata": {},
   "source": [
    "### Voronoi functions"
   ]
  },
  {
   "cell_type": "code",
   "execution_count": 26,
   "metadata": {},
   "outputs": [],
   "source": [
    "def voronoi_finite_polygons_2d(vor, radius=None):\n",
    "    \n",
    "    if vor.points.shape[1] != 2:\n",
    "        raise ValueError(\"Requires 2D input\")\n",
    "\n",
    "    new_regions = []\n",
    "    new_vertices = vor.vertices.tolist()\n",
    "\n",
    "    center = vor.points.mean(axis=0)\n",
    "    if radius is None:\n",
    "        radius = vor.points.ptp().max()*2\n",
    "\n",
    "    # Construct a map containing all ridges for a given point\n",
    "    all_ridges = {}\n",
    "    for (p1, p2), (v1, v2) in zip(vor.ridge_points, vor.ridge_vertices):\n",
    "        all_ridges.setdefault(p1, []).append((p2, v1, v2))\n",
    "        all_ridges.setdefault(p2, []).append((p1, v1, v2))\n",
    "\n",
    "    # Reconstruct infinite regions\n",
    "    for p1, region in enumerate(vor.point_region):\n",
    "        vertices = vor.regions[region]\n",
    "\n",
    "        if all(v >= 0 for v in vertices):\n",
    "            # finite region\n",
    "            new_regions.append(vertices)\n",
    "            continue\n",
    "\n",
    "        # reconstruct a non-finite region\n",
    "        ridges = all_ridges[p1]\n",
    "        new_region = [v for v in vertices if v >= 0]\n",
    "\n",
    "        for p2, v1, v2 in ridges:\n",
    "            if v2 < 0:\n",
    "                v1, v2 = v2, v1\n",
    "            if v1 >= 0:\n",
    "                # finite ridge: already in the region\n",
    "                continue\n",
    "\n",
    "            # Compute the missing endpoint of an infinite ridge\n",
    "\n",
    "            t = vor.points[p2] - vor.points[p1] # tangent\n",
    "            t /= np.linalg.norm(t)\n",
    "            n = np.array([-t[1], t[0]])  # normal\n",
    "\n",
    "            midpoint = vor.points[[p1, p2]].mean(axis=0)\n",
    "            direction = np.sign(np.dot(midpoint - center, n)) * n\n",
    "            far_point = vor.vertices[v2] + direction * radius\n",
    "\n",
    "            new_region.append(len(new_vertices))\n",
    "            new_vertices.append(far_point.tolist())\n",
    "\n",
    "        # sort region counterclockwise\n",
    "        vs = np.asarray([new_vertices[v] for v in new_region])\n",
    "        c = vs.mean(axis=0)\n",
    "        angles = np.arctan2(vs[:,1] - c[1], vs[:,0] - c[0])\n",
    "        new_region = np.array(new_region)[np.argsort(angles)]\n",
    "\n",
    "        # finish\n",
    "        new_regions.append(new_region.tolist())\n",
    "\n",
    "    return new_regions, np.asarray(new_vertices)\n",
    "\n",
    "def get_max_sides(districts):\n",
    "    max_sides = 0\n",
    "    for poly in districts:\n",
    "        if len(poly) > max_sides:\n",
    "            max_sides = len(poly)\n",
    "    return max_sides\n",
    "\n",
    "def get_districts(points):\n",
    "    # compute Voronoi tesselation\n",
    "    vor = Voronoi(points)\n",
    "\n",
    "    # plot\n",
    "    regions, vertices = voronoi_finite_polygons_2d(vor)\n",
    "#    threeland = Polygon([[0,0], [1000,0], [500, 500 * 1.73]])\n",
    "    threeland = Polygon([[0,0], [1000,0], [500, 500 * np.sqrt(3)]])\n",
    "    districts = []\n",
    "\n",
    "    fig, ax = plt.subplots(1,1, figsize=(12,6))\n",
    "\n",
    "    # colorize\n",
    "    for region in regions:\n",
    "        polygon = vertices[region]\n",
    "        # Clipping polygon\n",
    "        poly = Polygon(polygon)\n",
    "        poly = poly.intersection(threeland)\n",
    "        polygon = [p for p in poly.exterior.coords]\n",
    "        ax.fill(*zip(*polygon), alpha=0.4)\n",
    "        districts.append(polygon)\n",
    "\n",
    "    ax.plot(points[:, 0], points[:, 1], 'ko', ms=3)\n",
    "    ax.axis('equal')\n",
    "    ax.set_title(\"Preview of {} Districts\".format(len(districts)))\n",
    "    fig.savefig('voro.pdf')\n",
    "    \n",
    "    return districts"
   ]
  },
  {
   "cell_type": "markdown",
   "metadata": {},
   "source": [
    "### Print to file function"
   ]
  },
  {
   "cell_type": "code",
   "execution_count": 27,
   "metadata": {},
   "outputs": [],
   "source": [
    "def append_districts(name, districts):\n",
    "    f = open(name, \"a+\")\n",
    "    f.write(str(len(districts)) + \"\\n\")\n",
    "    for poly in districts:\n",
    "        f.write(str(len(poly)) + \" \")\n",
    "        for vertex in poly:\n",
    "            x, y = vertex[0], vertex[1]\n",
    "            f.write(str(x) + \" \" + str(y) + \" \")\n",
    "        f.write(\"\\n\")\n",
    "    f.close()"
   ]
  },
  {
   "cell_type": "markdown",
   "metadata": {},
   "source": [
    "### Build master file functions"
   ]
  },
  {
   "cell_type": "code",
   "execution_count": 40,
   "metadata": {},
   "outputs": [],
   "source": [
    "newFileName = \"map\" + str(num_parties) + \"_reps\" + str(NUM_PARTY_REPS)\n",
    "# print (newFileName) # test\n",
    "\n",
    "# get file ready (don't have districts yet)\n",
    "def buildNewFile(mapfile):\n",
    "    read_file = open(mapfile, \"r\")\n",
    "    write_file = open(newFileName, \"w\")\n",
    "    \n",
    "    for i in range(num_population +1):\n",
    "        write_file.write(read_file.readline())\n",
    "    read_file.close()\n",
    "    write_file.close()\n",
    "\n",
    "buildNewFile(path)\n",
    "num_districts = 243 / NUM_PARTY_REPS\n",
    "    \n",
    "def append_districts(name, districts):\n",
    "    f = open(name, \"a+\")\n",
    "    f.write(str(len(districts)) + \"\\n\")\n",
    "    for poly in districts:\n",
    "        f.write(str(len(poly)) + \" \")\n",
    "        for vertex in poly:\n",
    "            x, y = vertex[0], vertex[1]\n",
    "            f.write(str(x) + \" \" + str(y) + \" \")\n",
    "        f.write(\"\\n\")\n",
    "    f.close()"
   ]
  },
  {
   "cell_type": "code",
   "execution_count": 54,
   "metadata": {},
   "outputs": [],
   "source": [
    "Population_coords = np.array(Population_coords)\n",
    "Population_coords = thinner(Population_coords, 1000)"
   ]
  },
  {
   "cell_type": "markdown",
   "metadata": {},
   "source": [
    "### Make file / Get preview"
   ]
  },
  {
   "cell_type": "code",
   "execution_count": 57,
   "metadata": {},
   "outputs": [
    {
     "data": {
      "image/png": "[encoded data removed]",
      "text/plain": [
       "<Figure size 864x432 with 1 Axes>"
      ]
     },
     "metadata": {
      "needs_background": "light"
     },
     "output_type": "display_data"
    }
   ],
   "source": [
    "# centroids = generate_random_centroids(num_districts=81)\n",
    "# print(centroids)\n",
    "\n",
    "k_means_centroids_81, distortion = kmeans(Population_coords, 81) \n",
    "\n",
    "districts = get_districts(k_means_centroids_81) \n",
    "append_districts(newFileName, districts)"
   ]
  },
  {
   "cell_type": "code",
   "execution_count": null,
   "metadata": {},
   "outputs": [],
   "source": [
    "# centroids = generate_random_centroids(num_districts=243)\n",
    "k_means_centroids_243, distortion = kmeans(Population_coords, 243) \n",
    "\n",
    "districts = get_districts(k_means_centroids_243) \n",
    "append_districts(\"voronoi_districts_243\", districts)"
   ]
  },
  {
   "cell_type": "code",
   "execution_count": 50,
   "metadata": {},
   "outputs": [],
   "source": [
    "# population is numpy array of shape (num_pop, 2).  x is idx 0 and y 1.\n",
    "def thinner(population, thinned_length):\n",
    "    sample = np.random.choice(len(population), thinned_length)\n",
    "    return population[sample]"
   ]
  },
  {
   "cell_type": "code",
   "execution_count": null,
   "metadata": {},
   "outputs": [],
   "source": []
  }
 ],
 "metadata": {
  "kernelspec": {
   "display_name": "Python 3",
   "language": "python",
   "name": "python3"
  },
  "language_info": {
   "codemirror_mode": {
    "name": "ipython",
    "version": 3
   },
   "file_extension": ".py",
   "mimetype": "text/x-python",
   "name": "python",
   "nbconvert_exporter": "python",
   "pygments_lexer": "ipython3",
   "version": "3.6.7"
  }
 },
 "nbformat": 4,
 "nbformat_minor": 2
}
